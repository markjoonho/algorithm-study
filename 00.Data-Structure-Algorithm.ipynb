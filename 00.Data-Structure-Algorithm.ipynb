{
 "cells": [
  {
   "cell_type": "markdown",
   "id": "9b1c86f8",
   "metadata": {},
   "source": [
    "### Data Structure\n",
    "\n",
    "- 대량의 데이터를 효율적으로 관리할 수 있는 데이터의 구조\n",
    "- 효율적으로 데이터를 처리하기 위해, 데이터 특성에 따라, 체계적으로 데이터를 구조화 해야함\n",
    "- 데이터 구조에 따라 코드 효율이 달라짐"
   ]
  },
  {
   "cell_type": "markdown",
   "id": "cc248bb7",
   "metadata": {},
   "source": [
    "### 효율적으로 데이터 관리 예\n",
    "\n",
    "- 우편번호: 5자리 우편 번호로 국가의 기초 구역 제공\n",
    "\n",
    "    - 앞 3자리는 시, 군, 자치구 표기\n",
    "    - 뒤 2자리는 일련번호로 구성\n",
    "    \n",
    "- 학생 관리: 학년, 반, 번호를 학생에게 부여해서 학생부를 관리\n",
    "\n",
    "    - ㅁ학년 ㅁ반 ㅁ번 학생\n",
    "    - 관리 기법 없다면 특정 학생을 찾기 위해 전체 학생을 모두 훑어야함\n",
    "    "
   ]
  },
  {
   "cell_type": "markdown",
   "id": "0b56e4f2",
   "metadata": {},
   "source": [
    "### 대표적인 자료구조(Data Structure)\n",
    "\n",
    "- 배열(array), 스택(stack), 큐(queue), 링크드 리스트(linked list), 해쉬 테이블(hash table), 힙(heap) 등"
   ]
  },
  {
   "cell_type": "markdown",
   "id": "7ab8219e",
   "metadata": {},
   "source": [
    "---"
   ]
  },
  {
   "cell_type": "markdown",
   "id": "1a7a5c67",
   "metadata": {},
   "source": [
    "### Algorithm\n",
    "\n",
    "- 어떤 문제를 해결하기 위한 절차/ 방법\n",
    "- 어떤 문제에 대해, 특정 입력을 넣으면, 원하는 출력을 업을 수 있도록 만든는 프로그래밍"
   ]
  },
  {
   "cell_type": "markdown",
   "id": "22418beb",
   "metadata": {},
   "source": [
    "---"
   ]
  },
  {
   "cell_type": "markdown",
   "id": "6e275940",
   "metadata": {},
   "source": [
    "### 데이터 구조와 알고리즘이 중요한 이유\n",
    "\n",
    "- 어떤 자료구조와 알고리즘을 쓰느냐에 따라 성능이 천지차!"
   ]
  }
 ],
 "metadata": {
  "kernelspec": {
   "display_name": "Python 3",
   "language": "python",
   "name": "python3"
  },
  "language_info": {
   "codemirror_mode": {
    "name": "ipython",
    "version": 3
   },
   "file_extension": ".py",
   "mimetype": "text/x-python",
   "name": "python",
   "nbconvert_exporter": "python",
   "pygments_lexer": "ipython3",
   "version": "3.9.0"
  }
 },
 "nbformat": 4,
 "nbformat_minor": 5
}
