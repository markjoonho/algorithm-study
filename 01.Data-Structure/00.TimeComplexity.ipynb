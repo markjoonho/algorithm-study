{
 "cells": [
  {
   "cell_type": "markdown",
   "id": "3f5e4a62",
   "metadata": {},
   "source": [
    "### 알고리즘 복잡도 표현 방법\n",
    "\n",
    "### 1. 알고리즘 복잡도 계산이 필요한 이유\n",
    "\n",
    "##### 하나의 문제를 푸는 알고리즘은 다양할 수 있음\n",
    "\n",
    "- 정수의 절대값 구하기\n",
    "\n",
    "    - 방법 1: 정수값을 제곱한 값에 다시 루트 씌우기\n",
    "    - 방법 2: 정수가 음수인지 확인 후, 음수 일때만 -1 곱하기\n",
    "    \n",
    "> 다양한 알고리즘 중 어느 알고리즘이 더 좋은지를 분석하기 위해, 복잡도를 정의하고 계산함"
   ]
  },
  {
   "cell_type": "markdown",
   "id": "ded08318",
   "metadata": {},
   "source": [
    "### 2. 알고리즘 복잡도 계산 항목\n",
    "\n",
    "1. 시간 복잡도: 알고리즘 실행 속도\n",
    "2. 공간 복잡도: 알고리즘이 사용하는 메모리 사이즈\n",
    "\n",
    "> 가장 중요한 시간 복잡도를 꼭 이해하고 계산할 수 있어야 함"
   ]
  },
  {
   "cell_type": "markdown",
   "id": "b2aec591",
   "metadata": {},
   "source": [
    "### 알고리즘 시간 복잡도의 주요 요소\n",
    "\n",
    "> 반복문이 지배합니다\n",
    "\n",
    "##### 프로그램에서 시간 복잡도에 가장 영향을 많이 미치는 요소는 반복문\n",
    "\n",
    "- 입력의 크기가 커지면 커질수록 반복문이 알고리즘 수행 시간을 지배함"
   ]
  },
  {
   "cell_type": "markdown",
   "id": "9df219a4",
   "metadata": {},
   "source": [
    "### 알고리즘 성능 표기법\n",
    "\n",
    "- Big O 표기법:O(n)\n",
    "    - 알고리즘 최악의 실행 시간을 표기\n",
    "    - 가장 많이/일바적으로 사용함\n",
    "    - 아무리 최악의 상황이라도, 이정도의 성능은 보장한다는 의미이기 때문\n",
    "\n",
    "- $\\Omega$ 표기법: $\\Omega$(n)\n",
    "    - 알고리즘 최상의 실행 시가을 표기\n",
    "\n",
    "- $\\theta$ 표기법: $\\theta$(n)\n",
    "    - 알고리즘 평균 실행 시간을 표기\n",
    "\n",
    "> 시간 복잡도 계산은 반복문이 핵심 요소임을 인지하고, 계산 표기는 최상, 평균, 최악의 시간인 Big-O 표기법을 중심으로 익히면 됨"
   ]
  },
  {
   "cell_type": "markdown",
   "id": "0442237f",
   "metadata": {},
   "source": [
    "### 3. Big O Notation\n",
    "\n",
    "- O(입력)\n",
    "\n",
    "    - 입력 n에 따라 결정되는 시간 복잡도 함수\n",
    "    - O(1), O($log(n)$), O($n$), O($nlog(n)$), O($n^2$), O($n!$)등으로 표기함\n",
    "    - 입력 n의 크기에 따라 기하급수적으로 시간 복잡도가 늘어날 수 있음\n",
    "        - O(1) < O($log(n)$) < O($n$) < O(n$log(n)$) < O($n^2$) < O($n!$)\n",
    "        - $log(n)$의 베이스는 2\n",
    "\n",
    "- 단순하게 입력 n에 따라, 몇번 실행이 되는지를 계산하면 된다.\n",
    "    - 표현식에 가장 큰 영향을 미치는 n의 단위로 표기한다.\n",
    "        - 무조건 2회(상수번) 실행시: O(1)\n",
    "        \n",
    "        ```python\n",
    "        if n > 10:\n",
    "            print(n)\n",
    "        ```\n",
    "        \n",
    "        - n에따라, n번, n번 + 100, 3n번 + 1000번 등 실행시: O(n)\n",
    "        \n",
    "        ```python\n",
    "        if n > 10:\n",
    "            print(n)\n",
    "        for index in range(n):\n",
    "            print(index)\n",
    "        ```\n",
    "        \n",
    "        - n에따라, $n^2$번, $n^2$ + 100번, 100$n^2$ + 10000번 등 실행시: O($n^2$)\n",
    "\n",
    "        ```python\n",
    "        for index in range(n):\n",
    "            for index_sec in range(n):\n",
    "                print(index+index_sec)\n",
    "    \n",
    "        ```\n",
    "        \n",
    "        - 예시:\n",
    "            - 만약 시간 복잡도 함수가 $2n^2 + 4n$ 이면\n",
    "                - 가장 큰 차수는 $2n^2$\n",
    "                - 상수는 실제 큰 영향이 없음\n",
    "                - 따라서 O($n^2$)"
   ]
  },
  {
   "cell_type": "markdown",
   "id": "49ccdd45",
   "metadata": {},
   "source": [
    "### 4. 실제 알고리즘을 예로 각 알고리즘의 시간 복잡도와 Big O notation 알아보기\n",
    "\n",
    "##### 연습1: 1부터 n까지의 합을 구하는 알고리즘 작성해보기"
   ]
  },
  {
   "cell_type": "code",
   "execution_count": 1,
   "id": "073752db",
   "metadata": {},
   "outputs": [],
   "source": [
    "def sum_all(n): # O(n)\n",
    "    total = 0\n",
    "    \n",
    "    for num in range(1, n+1):\n",
    "        total += num\n",
    "        \n",
    "    return total"
   ]
  },
  {
   "cell_type": "code",
   "execution_count": 2,
   "id": "525724f1",
   "metadata": {},
   "outputs": [
    {
     "data": {
      "text/plain": [
       "5050"
      ]
     },
     "execution_count": 2,
     "metadata": {},
     "output_type": "execute_result"
    }
   ],
   "source": [
    "sum_all(100)"
   ]
  },
  {
   "cell_type": "code",
   "execution_count": 4,
   "id": "8380a460",
   "metadata": {},
   "outputs": [],
   "source": [
    "def sum_all(n): # O(1)\n",
    "    return int(n * (n + 1) / 2)"
   ]
  },
  {
   "cell_type": "code",
   "execution_count": 5,
   "id": "4f725de5",
   "metadata": {},
   "outputs": [
    {
     "data": {
      "text/plain": [
       "5050"
      ]
     },
     "execution_count": 5,
     "metadata": {},
     "output_type": "execute_result"
    }
   ],
   "source": [
    "sum_all(100)"
   ]
  },
  {
   "cell_type": "markdown",
   "id": "1c69b936",
   "metadata": {},
   "source": [
    "##### 어느 알고리즘이 더 좋을까?\n",
    "\n",
    "- O(1)"
   ]
  }
 ],
 "metadata": {
  "kernelspec": {
   "display_name": "Python 3",
   "language": "python",
   "name": "python3"
  },
  "language_info": {
   "codemirror_mode": {
    "name": "ipython",
    "version": 3
   },
   "file_extension": ".py",
   "mimetype": "text/x-python",
   "name": "python",
   "nbconvert_exporter": "python",
   "pygments_lexer": "ipython3",
   "version": "3.9.0"
  }
 },
 "nbformat": 4,
 "nbformat_minor": 5
}
