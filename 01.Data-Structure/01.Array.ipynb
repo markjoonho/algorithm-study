{
 "cells": [
  {
   "cell_type": "markdown",
   "id": "63fbb023",
   "metadata": {},
   "source": [
    "### 배열(Array)\n",
    "\n",
    "- 데이터를 나열하고, 각 데이터를 익데스에 대응하도록 구성한 데이터 구조\n",
    "- 파이썬에서는 리스트 타입이 배열 기능을 제공하고 있음\n"
   ]
  },
  {
   "cell_type": "markdown",
   "id": "aa94f09e",
   "metadata": {},
   "source": [
    "### 1. 배열이 필요한 이유\n",
    "\n",
    "- 같은 종류의 데이터를 효율적으로 관리하게 위해 사용\n",
    "- 같은 종류의 데이터를 순차적으로 저장"
   ]
  },
  {
   "cell_type": "markdown",
   "id": "b4187c0d",
   "metadata": {},
   "source": [
    "- 배열의 장점\n",
    "\n",
    "    - 빠른 접근 가능\n",
    "\n",
    "- 배열의 단점\n",
    "    \n",
    "    - 추가/삭제가 쉽지 않음\n",
    "\n"
   ]
  },
  {
   "cell_type": "markdown",
   "id": "0c18fa69",
   "metadata": {},
   "source": [
    "### 2. 파이썬과 C언어의 배열 예제\n",
    "\n"
   ]
  },
  {
   "cell_type": "markdown",
   "id": "92cd5192",
   "metadata": {},
   "source": [
    "```C\n",
    "#include <stdio.h>\n",
    "\n",
    "int main(int argc, char * argv[]) {\n",
    "    char country[3] = \"US\";\n",
    "    printf(\"%c%c\\n\", country[0], country[1]);\n",
    "    printf(\"%s\\n\", country);\n",
    "    return 0;\n",
    "}\n",
    "```"
   ]
  },
  {
   "cell_type": "code",
   "execution_count": 2,
   "id": "2b1ca9b0",
   "metadata": {},
   "outputs": [
    {
     "name": "stdout",
     "output_type": "stream",
     "text": [
      "US\n",
      "USA\n"
     ]
    }
   ],
   "source": [
    "country = 'US'\n",
    "print(country)\n",
    "\n",
    "country = country + 'A'\n",
    "print(country)"
   ]
  },
  {
   "cell_type": "markdown",
   "id": "f8ee7e83",
   "metadata": {},
   "source": [
    "### 3. 파이썬과 배열\n",
    "\n",
    "- 파이썬 리스트 활용"
   ]
  },
  {
   "cell_type": "code",
   "execution_count": 3,
   "id": "01ab3e34",
   "metadata": {},
   "outputs": [
    {
     "data": {
      "text/plain": [
       "[1, 2, 3, 4, 5]"
      ]
     },
     "execution_count": 3,
     "metadata": {},
     "output_type": "execute_result"
    }
   ],
   "source": [
    "# 1차원 배열: 리스트로 구현시\n",
    "\n",
    "data = [1,2,3,4,5]\n",
    "data"
   ]
  },
  {
   "cell_type": "code",
   "execution_count": 4,
   "id": "c886c95f",
   "metadata": {},
   "outputs": [
    {
     "data": {
      "text/plain": [
       "[[1, 2, 3], [4, 5, 6], [7, 8, 9]]"
      ]
     },
     "execution_count": 4,
     "metadata": {},
     "output_type": "execute_result"
    }
   ],
   "source": [
    "# 2차원 배열: 리스트로 구현시\n",
    "\n",
    "data = [[1,2,3], [4,5,6], [7,8,9]]\n",
    "data"
   ]
  },
  {
   "cell_type": "code",
   "execution_count": 5,
   "id": "a9f963f7",
   "metadata": {},
   "outputs": [
    {
     "name": "stdout",
     "output_type": "stream",
     "text": [
      "[1, 2, 3]\n"
     ]
    }
   ],
   "source": [
    "print(data[0])"
   ]
  },
  {
   "cell_type": "code",
   "execution_count": 8,
   "id": "89496ac1",
   "metadata": {},
   "outputs": [
    {
     "name": "stdout",
     "output_type": "stream",
     "text": [
      "1\n",
      "3\n",
      "4\n",
      "6\n"
     ]
    }
   ],
   "source": [
    "print(data[0][0])\n",
    "print(data[0][2])\n",
    "print(data[1][0])\n",
    "print(data[1][2])"
   ]
  },
  {
   "cell_type": "markdown",
   "id": "b0b20ef3",
   "metadata": {},
   "source": [
    "### 4. 프로그래밍 연습\n",
    "\n",
    "##### 연습 1: 위의 2차원 배열에서 9, 8, 7 순서로 출력해 보기"
   ]
  },
  {
   "cell_type": "code",
   "execution_count": 9,
   "id": "2fb72913",
   "metadata": {},
   "outputs": [
    {
     "data": {
      "text/plain": [
       "[9, 8, 7]"
      ]
     },
     "execution_count": 9,
     "metadata": {},
     "output_type": "execute_result"
    }
   ],
   "source": [
    "data[2][::-1]"
   ]
  },
  {
   "cell_type": "markdown",
   "id": "f4e486e0",
   "metadata": {},
   "source": [
    "##### 연습 2: 다음 데이터 셋에서 전체 이름 안에서 M이 몇번 나왔는지 빈도수 측정하기"
   ]
  },
  {
   "cell_type": "code",
   "execution_count": 11,
   "id": "c074f3ac",
   "metadata": {},
   "outputs": [
    {
     "data": {
      "text/plain": [
       "12"
      ]
     },
     "execution_count": 11,
     "metadata": {},
     "output_type": "execute_result"
    }
   ],
   "source": [
    "dataset = [\n",
    "    \"Joonho Mr Lee\",\n",
    "    \"Mark Lee\",\n",
    "    \"Muhamad Alie\",\n",
    "    \"Master Key\",\n",
    "    \"Mrs Kim\",\n",
    "    \"Mr Lee\",\n",
    "    \"MMM MMM\",\n",
    "]\n",
    "\n",
    "m_counts = 0\n",
    "\n",
    "for data in dataset:\n",
    "    for index in range(len(data)):\n",
    "        if data[index] == 'M':\n",
    "            m_counts += 1\n",
    "\n",
    "m_counts"
   ]
  }
 ],
 "metadata": {
  "kernelspec": {
   "display_name": "Python 3",
   "language": "python",
   "name": "python3"
  },
  "language_info": {
   "codemirror_mode": {
    "name": "ipython",
    "version": 3
   },
   "file_extension": ".py",
   "mimetype": "text/x-python",
   "name": "python",
   "nbconvert_exporter": "python",
   "pygments_lexer": "ipython3",
   "version": "3.9.0"
  }
 },
 "nbformat": 4,
 "nbformat_minor": 5
}
