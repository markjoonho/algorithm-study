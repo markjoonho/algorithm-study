{
 "cells": [
  {
   "cell_type": "markdown",
   "id": "220afebf",
   "metadata": {},
   "source": [
    "### 큐(Queue)"
   ]
  },
  {
   "cell_type": "markdown",
   "id": "cd76bd1e",
   "metadata": {},
   "source": [
    "### 1. 큐 구조\n",
    "\n",
    "- 줄을 서는 행위와 유사\n",
    "- 가장 먼저 넣은 데이터를 가장 먼저 꺼낼 수 있는 구조\n",
    "\n",
    "    - 음식점에서 가장 먼저 줄을 선 사람이 가장 먼저 입장하는 것과 동일\n",
    "    - FIFO(FIrst In First Out) 방식으로 스택(stack)과 꺼내는 순서가 반대"
   ]
  },
  {
   "cell_type": "markdown",
   "id": "544fe7b6",
   "metadata": {},
   "source": [
    "### 2. 알아둘 용어\n",
    "\n",
    "- Enqueue: 큐에 데이터를 넣는 기능\n",
    "- Deque: 큐에 데이터를 꺼내는 기능"
   ]
  },
  {
   "cell_type": "markdown",
   "id": "7beb555c",
   "metadata": {},
   "source": [
    "### 3. 파이썬 queue 라이브러리 활용해서 큐 자료 구조 사용하기\n",
    "\n",
    "- queue 라이브러리에는 다양한 큐 구조로 Queue(), LifoQueue(), PriorityQueue() 제공\n",
    "- 프로그램에 따라 적합한 자료 구조를 사용\n",
    "\n",
    "    - Queue(): 가장 일반적인 큐 자료 구조\n",
    "    - LifoQueue(): 나중에 입력한 데이터가 먼저 출력되는 구조 (스택 구조라고 보면 됨)\n",
    "    - PriorityQueue(): 데이터 마다 우선순위를 넣어서, 우선순위가 높은 순으로 데이터 출력"
   ]
  },
  {
   "cell_type": "markdown",
   "id": "52e26782",
   "metadata": {},
   "source": [
    "##### 3.1. Queue()로 큐 만들기 (일반적인 Queue, FIFO)"
   ]
  },
  {
   "cell_type": "code",
   "execution_count": 10,
   "id": "5143bbae",
   "metadata": {},
   "outputs": [],
   "source": [
    "import queue\n",
    "\n",
    "data_queue = queue.Queue()"
   ]
  },
  {
   "cell_type": "code",
   "execution_count": 11,
   "id": "fab4fd0e",
   "metadata": {},
   "outputs": [],
   "source": [
    "data_queue.put(\"hello\")\n",
    "data_queue.put(1)"
   ]
  },
  {
   "cell_type": "code",
   "execution_count": 12,
   "id": "ff6dc75f",
   "metadata": {},
   "outputs": [
    {
     "data": {
      "text/plain": [
       "2"
      ]
     },
     "execution_count": 12,
     "metadata": {},
     "output_type": "execute_result"
    }
   ],
   "source": [
    "data_queue.qsize()"
   ]
  },
  {
   "cell_type": "code",
   "execution_count": 13,
   "id": "48bbb181",
   "metadata": {},
   "outputs": [
    {
     "data": {
      "text/plain": [
       "'hello'"
      ]
     },
     "execution_count": 13,
     "metadata": {},
     "output_type": "execute_result"
    }
   ],
   "source": [
    "data_queue.get()"
   ]
  },
  {
   "cell_type": "code",
   "execution_count": 14,
   "id": "0065e01e",
   "metadata": {},
   "outputs": [
    {
     "data": {
      "text/plain": [
       "1"
      ]
     },
     "execution_count": 14,
     "metadata": {},
     "output_type": "execute_result"
    }
   ],
   "source": [
    "data_queue.qsize()"
   ]
  },
  {
   "cell_type": "markdown",
   "id": "4959e45e",
   "metadata": {},
   "source": [
    "##### 3.2. LifoQue()로 큐 만들기 (LILO)"
   ]
  },
  {
   "cell_type": "code",
   "execution_count": 17,
   "id": "ee8c1480",
   "metadata": {},
   "outputs": [],
   "source": [
    "import queue\n",
    "\n",
    "lifo_queue = queue.LifoQueue()"
   ]
  },
  {
   "cell_type": "code",
   "execution_count": 18,
   "id": "e857a744",
   "metadata": {},
   "outputs": [],
   "source": [
    "lifo_queue.put(\"first\")\n",
    "lifo_queue.put(2)"
   ]
  },
  {
   "cell_type": "code",
   "execution_count": 19,
   "id": "98448c37",
   "metadata": {},
   "outputs": [
    {
     "data": {
      "text/plain": [
       "2"
      ]
     },
     "execution_count": 19,
     "metadata": {},
     "output_type": "execute_result"
    }
   ],
   "source": [
    "lifo_queue.qsize()"
   ]
  },
  {
   "cell_type": "code",
   "execution_count": 20,
   "id": "a40a730b",
   "metadata": {},
   "outputs": [
    {
     "data": {
      "text/plain": [
       "2"
      ]
     },
     "execution_count": 20,
     "metadata": {},
     "output_type": "execute_result"
    }
   ],
   "source": [
    "lifo_queue.get()"
   ]
  },
  {
   "cell_type": "code",
   "execution_count": 21,
   "id": "64269afa",
   "metadata": {},
   "outputs": [
    {
     "data": {
      "text/plain": [
       "1"
      ]
     },
     "execution_count": 21,
     "metadata": {},
     "output_type": "execute_result"
    }
   ],
   "source": [
    "lifo_queue.qsize()"
   ]
  },
  {
   "cell_type": "markdown",
   "id": "36ebdfe7",
   "metadata": {},
   "source": [
    "##### 3.3 PriorityQueue()로 큐 만들기"
   ]
  },
  {
   "cell_type": "code",
   "execution_count": 23,
   "id": "79430b06",
   "metadata": {},
   "outputs": [],
   "source": [
    "import queue\n",
    "\n",
    "prior_queue = queue.PriorityQueue()"
   ]
  },
  {
   "cell_type": "code",
   "execution_count": 24,
   "id": "6d68d390",
   "metadata": {},
   "outputs": [],
   "source": [
    "prior_queue.put((10, \"Korea\"))\n",
    "prior_queue.put((5, \"hello\"))\n",
    "prior_queue.put((7, \"second\"))"
   ]
  },
  {
   "cell_type": "code",
   "execution_count": 25,
   "id": "e050a8a4",
   "metadata": {},
   "outputs": [
    {
     "data": {
      "text/plain": [
       "3"
      ]
     },
     "execution_count": 25,
     "metadata": {},
     "output_type": "execute_result"
    }
   ],
   "source": [
    "prior_queue.qsize()"
   ]
  },
  {
   "cell_type": "code",
   "execution_count": 26,
   "id": "737e7704",
   "metadata": {},
   "outputs": [
    {
     "data": {
      "text/plain": [
       "(5, 'hello')"
      ]
     },
     "execution_count": 26,
     "metadata": {},
     "output_type": "execute_result"
    }
   ],
   "source": [
    "prior_queue.get()"
   ]
  },
  {
   "cell_type": "code",
   "execution_count": 27,
   "id": "aafa69d5",
   "metadata": {},
   "outputs": [
    {
     "data": {
      "text/plain": [
       "(7, 'second')"
      ]
     },
     "execution_count": 27,
     "metadata": {},
     "output_type": "execute_result"
    }
   ],
   "source": [
    "prior_queue.get()"
   ]
  },
  {
   "cell_type": "code",
   "execution_count": 28,
   "id": "cc793e44",
   "metadata": {},
   "outputs": [
    {
     "data": {
      "text/plain": [
       "(10, 'Korea')"
      ]
     },
     "execution_count": 28,
     "metadata": {},
     "output_type": "execute_result"
    }
   ],
   "source": [
    "prior_queue.get()"
   ]
  },
  {
   "cell_type": "code",
   "execution_count": 29,
   "id": "b96650c6",
   "metadata": {},
   "outputs": [
    {
     "data": {
      "text/plain": [
       "0"
      ]
     },
     "execution_count": 29,
     "metadata": {},
     "output_type": "execute_result"
    }
   ],
   "source": [
    "prior_queue.qsize()"
   ]
  },
  {
   "cell_type": "markdown",
   "id": "571a6a5a",
   "metadata": {},
   "source": [
    "##### 어디에 큐가 많이 쓰일까?\n",
    "\n",
    "- 멀티 테스킹을 위한 프로세스 스케줄링 방식을 구현하기 위해 많이 사용됨 (운영체제 참조)\n",
    "\n",
    "### 4. 프로그래밍 연습\n",
    "\n",
    "##### 연습 1: 리스트 변수로 큐를 다루는 enqueue, dequeue 기능 구현해보기"
   ]
  },
  {
   "cell_type": "code",
   "execution_count": 43,
   "id": "75cc0d7e",
   "metadata": {},
   "outputs": [],
   "source": [
    "queue_list = list()\n",
    "\n",
    "def enqueue(data):\n",
    "    queue_list.append(data)\n",
    "    \n",
    "def dequeue():\n",
    "    data = queue_list[0]\n",
    "    del queue_list[0]\n",
    "    return data"
   ]
  },
  {
   "cell_type": "code",
   "execution_count": 44,
   "id": "5aaf428f",
   "metadata": {},
   "outputs": [],
   "source": [
    "for index in range(10):\n",
    "    enqueue(index)"
   ]
  },
  {
   "cell_type": "code",
   "execution_count": 45,
   "id": "ca64aa9f",
   "metadata": {},
   "outputs": [
    {
     "data": {
      "text/plain": [
       "[0, 1, 2, 3, 4, 5, 6, 7, 8, 9]"
      ]
     },
     "execution_count": 45,
     "metadata": {},
     "output_type": "execute_result"
    }
   ],
   "source": [
    "queue_list"
   ]
  },
  {
   "cell_type": "code",
   "execution_count": 46,
   "id": "0d9dae3c",
   "metadata": {},
   "outputs": [
    {
     "data": {
      "text/plain": [
       "0"
      ]
     },
     "execution_count": 46,
     "metadata": {},
     "output_type": "execute_result"
    }
   ],
   "source": [
    "dequeue()"
   ]
  },
  {
   "cell_type": "code",
   "execution_count": 47,
   "id": "be466185",
   "metadata": {},
   "outputs": [
    {
     "data": {
      "text/plain": [
       "[1, 2, 3, 4, 5, 6, 7, 8, 9]"
      ]
     },
     "execution_count": 47,
     "metadata": {},
     "output_type": "execute_result"
    }
   ],
   "source": [
    "queue_list"
   ]
  }
 ],
 "metadata": {
  "kernelspec": {
   "display_name": "Python 3",
   "language": "python",
   "name": "python3"
  },
  "language_info": {
   "codemirror_mode": {
    "name": "ipython",
    "version": 3
   },
   "file_extension": ".py",
   "mimetype": "text/x-python",
   "name": "python",
   "nbconvert_exporter": "python",
   "pygments_lexer": "ipython3",
   "version": "3.9.0"
  }
 },
 "nbformat": 4,
 "nbformat_minor": 5
}
