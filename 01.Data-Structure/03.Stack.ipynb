{
 "cells": [
  {
   "cell_type": "markdown",
   "id": "3563239c",
   "metadata": {},
   "source": [
    "### 스택 (Stack)\n",
    "\n",
    "- 데이터를 제한적으로 접근할 수 있는 구조\n",
    "\n",
    "    - 한쪽 끝에서만 자료를 넣거나 뺄 수 있는 구조\n",
    "    \n",
    "- 가장 나중에 쌓은 데이터를 가장 먼저 빼낼 수 있는 데이터 구조"
   ]
  },
  {
   "cell_type": "markdown",
   "id": "fcbcb26e",
   "metadata": {},
   "source": [
    "### 1. 스택 구조\n",
    "\n",
    "- 스택은 LIFO (Last In, First Out) 데이터 관리 방식을 따름\n",
    "- 대표적인 스택의 활용\n",
    "\n",
    "    - 컴퓨터 내부의 프로세스 구조의 함수 동작 방식\n",
    "    \n",
    "- 주요 기능\n",
    "\n",
    "    - push(): 데이터를 스택에 넣기\n",
    "    - pop(): 데이터를 스택에서 꺼내기"
   ]
  },
  {
   "cell_type": "markdown",
   "id": "97db9198",
   "metadata": {},
   "source": [
    "### 2. 스택 구조와 프로세스 스택\n",
    "\n",
    "- 스택 구조는 프로세스 실행 구조와 가장 기본\n",
    "\n",
    "    - 함수 호출시 프로세스 실행 구조를 스택과 비교해서 이해 필요"
   ]
  },
  {
   "cell_type": "code",
   "execution_count": 1,
   "id": "ef988f29",
   "metadata": {},
   "outputs": [],
   "source": [
    "# recursion 재귀 함수\n",
    "def recursive(data):\n",
    "    if data < 0:\n",
    "        print(\"ended\")\n",
    "    else:\n",
    "        print(data)\n",
    "        recursive(data - 1)\n",
    "        print(\"returned\", data)"
   ]
  },
  {
   "cell_type": "code",
   "execution_count": 2,
   "id": "7fdcef66",
   "metadata": {},
   "outputs": [
    {
     "name": "stdout",
     "output_type": "stream",
     "text": [
      "4\n",
      "3\n",
      "2\n",
      "1\n",
      "0\n",
      "ended\n",
      "returned 0\n",
      "returned 1\n",
      "returned 2\n",
      "returned 3\n",
      "returned 4\n"
     ]
    }
   ],
   "source": [
    "recursive(4)"
   ]
  },
  {
   "cell_type": "markdown",
   "id": "2780400e",
   "metadata": {},
   "source": [
    "### 3. 자료구조 스택의 장단점\n",
    "\n",
    "- 장점\n",
    "\n",
    "    - 구조가 단순해서, 구현이 쉽다.\n",
    "    - 데이터 저장/인지 속도가 빠르다.\n",
    "    \n",
    "- 단점(일반적인 스택 구현시)\n",
    "\n",
    "    - 데이터 최대 갯수를 미리 정해야한다.\n",
    "\n",
    "        - 파이썬의 경우 재귀 함수는 1000번까지만 호출이 가능함\n",
    "        \n",
    "    - 저장 공간의 낭비가 발생할 수 있음.\n",
    "    \n",
    "        - 미리 최대 갯수의 공간을 정해야함.\n",
    "        \n",
    "> 스택은 단순하고 빠른 성능을 위해 사용됨. 보통 배열 구조를 활용해서 구현하는 것이 일번적임. 위에 열거한 단점이 있을수 있음."
   ]
  },
  {
   "cell_type": "markdown",
   "id": "da82dce3",
   "metadata": {},
   "source": [
    "### 4. 파이썬 리스트 기능에서 제공하는 메서드로 스택 사용해보기\n",
    "\n",
    "- append(push), pop 메서드 제공"
   ]
  },
  {
   "cell_type": "code",
   "execution_count": 1,
   "id": "f271e187",
   "metadata": {},
   "outputs": [],
   "source": [
    "data_stack = list()\n",
    "\n",
    "data_stack.append(1)\n",
    "data_stack.append(2)"
   ]
  },
  {
   "cell_type": "code",
   "execution_count": 2,
   "id": "5fedf71b",
   "metadata": {},
   "outputs": [
    {
     "data": {
      "text/plain": [
       "[1, 2]"
      ]
     },
     "execution_count": 2,
     "metadata": {},
     "output_type": "execute_result"
    }
   ],
   "source": [
    "data_stack"
   ]
  },
  {
   "cell_type": "code",
   "execution_count": 3,
   "id": "03ca3cb0",
   "metadata": {},
   "outputs": [
    {
     "data": {
      "text/plain": [
       "2"
      ]
     },
     "execution_count": 3,
     "metadata": {},
     "output_type": "execute_result"
    }
   ],
   "source": [
    "data_stack.pop()"
   ]
  },
  {
   "cell_type": "code",
   "execution_count": 4,
   "id": "20dc0e16",
   "metadata": {},
   "outputs": [
    {
     "data": {
      "text/plain": [
       "[1]"
      ]
     },
     "execution_count": 4,
     "metadata": {},
     "output_type": "execute_result"
    }
   ],
   "source": [
    "data_stack"
   ]
  },
  {
   "cell_type": "code",
   "execution_count": 6,
   "id": "1bf44eab",
   "metadata": {},
   "outputs": [
    {
     "data": {
      "text/plain": [
       "1"
      ]
     },
     "execution_count": 6,
     "metadata": {},
     "output_type": "execute_result"
    }
   ],
   "source": [
    "data_stack.pop()"
   ]
  },
  {
   "cell_type": "markdown",
   "id": "b198c296",
   "metadata": {},
   "source": [
    "### 5. 프로그래밍 연습\n",
    "\n",
    "##### 연습 1: 리스트 변수로 스택을 다루는 pop, push 기능 구현해 보기 (pop, push 함수 사용하지 않고)"
   ]
  },
  {
   "cell_type": "code",
   "execution_count": 8,
   "id": "a165244f",
   "metadata": {},
   "outputs": [],
   "source": [
    "stack_list = list()\n",
    "\n",
    "def push(data):\n",
    "    stack_list.append(data)\n",
    "    \n",
    "def pop():\n",
    "    data = stack_list[-1]\n",
    "    del stack_list[-1]\n",
    "    return data"
   ]
  }
 ],
 "metadata": {
  "kernelspec": {
   "display_name": "Python 3",
   "language": "python",
   "name": "python3"
  },
  "language_info": {
   "codemirror_mode": {
    "name": "ipython",
    "version": 3
   },
   "file_extension": ".py",
   "mimetype": "text/x-python",
   "name": "python",
   "nbconvert_exporter": "python",
   "pygments_lexer": "ipython3",
   "version": "3.9.0"
  }
 },
 "nbformat": 4,
 "nbformat_minor": 5
}
