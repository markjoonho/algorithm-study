{
 "cells": [
  {
   "cell_type": "markdown",
   "id": "5c8bca67",
   "metadata": {},
   "source": [
    "### Hash Table (해쉬 테이블)\n",
    "\n",
    "### 1. 해쉬 구조\n",
    "\n",
    "- Hash Table: 키(key)에 데이터(value)를 저장하는 데이터 구조\n",
    "    - key를 통해 바로 데이터를 받아 올 수 있으므로, 속도가 획기적으로 빨라짐\n",
    "    - 파이썬 dictionary 형태가 해쉬 테이블의 예: Key를 가지고 바로 데이터(value)를 꺼냄\n",
    "    - 보통 배열로 미리 Hash Table 사이즈만큼 생성 후에 사용 (공간과 탐색 시간을 맞바꾸는 기법)\n",
    "    - 파이썬에서는 별도 구현 필요 없음! Dicitonary type 사용."
   ]
  },
  {
   "cell_type": "markdown",
   "id": "f67c116e",
   "metadata": {},
   "source": [
    "### 2. 알아둘 용어\n",
    "\n",
    "- Hash: 임의 값을 고정 길이로 변환하는 것\n",
    "- Hash Table: 키 값의 연산에 의해 직접 접근이 가능한 데이터 구조\n",
    "- Hash Function: 키에 산술 연산을 이용해 데이터 위치를 찾을 수 있는 함수\n",
    "- Hash Value: 키를 해싱 함수로 연산해서, 해쉬 값을 알아내고, 이를 기반으로 해쉬 테이블에서 해당 key에 대한 데이터 위치를 일관성 있게 찾을 수 있음\n",
    "- Slot: 한개의 데이터를 저장할 수 있는 공간\n",
    "- 저장할 데이터에 대해 key를 추출할 수 있는 별도 함수도 존재 가능"
   ]
  },
  {
   "cell_type": "markdown",
   "id": "14907bd1",
   "metadata": {},
   "source": [
    "### 3. 간단한 해쉬 예"
   ]
  },
  {
   "cell_type": "markdown",
   "id": "316cb76e",
   "metadata": {},
   "source": [
    "##### 3.1 Hash Table 만들기"
   ]
  },
  {
   "cell_type": "code",
   "execution_count": 22,
   "id": "25db7b2b",
   "metadata": {},
   "outputs": [
    {
     "data": {
      "text/plain": [
       "[0, 0, 0, 0, 0, 0, 0, 0, 0, 0]"
      ]
     },
     "execution_count": 22,
     "metadata": {},
     "output_type": "execute_result"
    }
   ],
   "source": [
    "hash_table = list([0 for i in range(10)])\n",
    "hash_table"
   ]
  },
  {
   "cell_type": "markdown",
   "id": "f6c9c725",
   "metadata": {},
   "source": [
    "###### 3.2 Hash Function 만들기\n",
    "- 다양한 해쉬 함수 기법이 있으며, 가장 간단한 방식이 Division 법(나누기를 통한 나머지 값을 가용하는 기법)"
   ]
  },
  {
   "cell_type": "code",
   "execution_count": 23,
   "id": "550c9cf7",
   "metadata": {},
   "outputs": [],
   "source": [
    "def hash_function(key):\n",
    "    return key % 5"
   ]
  },
  {
   "cell_type": "markdown",
   "id": "d86616f6",
   "metadata": {},
   "source": [
    "##### 3.3 Hash Table에 저장해보기\n",
    "- 데이터에 따라 필요시 key 생성 방법 정의가 필요함"
   ]
  },
  {
   "cell_type": "code",
   "execution_count": 24,
   "id": "13a17415",
   "metadata": {},
   "outputs": [
    {
     "name": "stdout",
     "output_type": "stream",
     "text": [
      "65 68 84\n",
      "0 3 4\n"
     ]
    }
   ],
   "source": [
    "data1 = 'Andy'\n",
    "data2 = 'Dave'\n",
    "data3 = 'Trump'\n",
    "\n",
    "# ord(): 문자의 ASCII 코드 return\n",
    "print(ord(data1[0]), ord(data2[0]), ord(data3[0])) # data\n",
    "print(hash_function(ord(data1[0])), hash_function(ord(data2[0])), hash_function(ord(data3[0]))) # key"
   ]
  },
  {
   "cell_type": "markdown",
   "id": "ebf00628",
   "metadata": {},
   "source": [
    "- 해쉬 테이블에 값 저장 예\n",
    "    - data: value와 같이 data 와 value를 넣으면, 해당 data에 대한 key를 찾아서, 해당 key에 대응하는 해쉬주소에 value를 저장하는 예"
   ]
  },
  {
   "cell_type": "code",
   "execution_count": 25,
   "id": "7b12840c",
   "metadata": {},
   "outputs": [],
   "source": [
    "def storage_data(data, value):\n",
    "    key = ord(data[0])\n",
    "    hash_address = hash_function(key)\n",
    "    hash_table[hash_address] = value"
   ]
  },
  {
   "cell_type": "code",
   "execution_count": 26,
   "id": "8ff61528",
   "metadata": {},
   "outputs": [],
   "source": [
    "storage_data(\"first\", 10)"
   ]
  },
  {
   "cell_type": "code",
   "execution_count": 27,
   "id": "b25d5a63",
   "metadata": {},
   "outputs": [
    {
     "data": {
      "text/plain": [
       "[0, 0, 10, 0, 0, 0, 0, 0, 0, 0]"
      ]
     },
     "execution_count": 27,
     "metadata": {},
     "output_type": "execute_result"
    }
   ],
   "source": [
    "hash_table"
   ]
  },
  {
   "cell_type": "markdown",
   "id": "f448bb1d",
   "metadata": {},
   "source": [
    "##### 3.4 해쉬 테이블에서 특정 주소의 데이터를 가져오는 함수도 만들기"
   ]
  },
  {
   "cell_type": "code",
   "execution_count": 28,
   "id": "c9f34899",
   "metadata": {},
   "outputs": [],
   "source": [
    "storage_data(\"Mark\", \"01022222222\")\n",
    "storage_data(\"Sujin\", \"01000000000\")\n",
    "storage_data(\"BangalHo\", \"01011111111\")"
   ]
  },
  {
   "cell_type": "code",
   "execution_count": 29,
   "id": "7e38a6c3",
   "metadata": {},
   "outputs": [],
   "source": [
    "def get_data(data):\n",
    "    key = ord(data[0])\n",
    "    hash_address = hash_function(key)\n",
    "    return hash_table[hash_address]"
   ]
  },
  {
   "cell_type": "code",
   "execution_count": 30,
   "id": "98794068",
   "metadata": {},
   "outputs": [
    {
     "data": {
      "text/plain": [
       "'01022222222'"
      ]
     },
     "execution_count": 30,
     "metadata": {},
     "output_type": "execute_result"
    }
   ],
   "source": [
    "get_data(\"Mark\")"
   ]
  },
  {
   "cell_type": "markdown",
   "id": "9fc05758",
   "metadata": {},
   "source": [
    "### 4. 해쉬 테이블의 장점과 단점\n",
    "\n",
    "- 장점\n",
    "    - 데이터 저장/읽기 속도가 빠르다. (검색 속도가 빠르다.)\n",
    "    - 해쉬는 키에 대한 데이터가 있는지(중복) 확인이 쉬움\n",
    "- 단점\n",
    "    - 일반적으로 저장공간이 조금 더 많이 필요하다.\n",
    "    - 여러 키에 해당하는 주소가 동일할 경우 충돌을 해결하기 위한 별도 자료구조가 필요함\n",
    "- 주요 용도\n",
    "    - 검색이 많이 필요한 경우\n",
    "    - 저장, 삭제, 읽기가 빈번한 경우\n",
    "    - 캐쉬 구현시 (중복 확인이 쉽기 때문)"
   ]
  },
  {
   "cell_type": "markdown",
   "id": "e464a02d",
   "metadata": {},
   "source": [
    "### 5. 프로그래밍 연습\n",
    "##### 연습 1: 리스트 변수를 활용해서 해쉬 테이블 구현해보기\n",
    "1. 해쉬 합수: key % 8\n",
    "2. 해쉬 키 생성: hash(data)"
   ]
  },
  {
   "cell_type": "code",
   "execution_count": 79,
   "id": "8007671b",
   "metadata": {},
   "outputs": [],
   "source": [
    "class HashTable:\n",
    "    def __init__(self, size=10):\n",
    "        self.hash_table = list([None for i in range(size)])\n",
    "        self.size = size\n",
    "        \n",
    "    def get_key(self, data):\n",
    "        return hash(data)\n",
    "\n",
    "    def hash_function(self, key):\n",
    "        return key % self.size\n",
    "\n",
    "    def save_data(self, data, value):\n",
    "        hash_address = self.hash_function(self.get_key(data))\n",
    "        self.hash_table[hash_address] = value\n",
    "\n",
    "    def read_data(self, data):\n",
    "        hash_address = self.hash_function(self.get_key(data))\n",
    "        return self.hash_table[hash_address]\n",
    "    \n",
    "    def __repr__(self):\n",
    "        result = \"\"\n",
    "        for i in range(self.size):\n",
    "            result = result + str(self.hash_table[i]) + \"\\n\"\n",
    "        return result"
   ]
  },
  {
   "cell_type": "code",
   "execution_count": 80,
   "id": "7c902d56",
   "metadata": {},
   "outputs": [
    {
     "name": "stdout",
     "output_type": "stream",
     "text": [
      "None\n",
      "None\n",
      "None\n",
      "None\n",
      "None\n",
      "01000000000\n",
      "01011111111\n",
      "None\n",
      "01022222222\n",
      "None\n",
      "\n"
     ]
    }
   ],
   "source": [
    "DB = HashTable()\n",
    "DB.save_data(\"Joonho\", \"01000000000\")\n",
    "DB.save_data(\"Bangalho\", \"01011111111\")\n",
    "DB.save_data(\"Sujin\", \"01022222222\")\n",
    "print(DB)"
   ]
  },
  {
   "cell_type": "code",
   "execution_count": 81,
   "id": "d04c906e",
   "metadata": {},
   "outputs": [
    {
     "data": {
      "text/plain": [
       "'01000000000'"
      ]
     },
     "execution_count": 81,
     "metadata": {},
     "output_type": "execute_result"
    }
   ],
   "source": [
    "DB.read_data(\"Joonho\")"
   ]
  },
  {
   "cell_type": "markdown",
   "id": "54061c72",
   "metadata": {},
   "source": [
    "### 6. 충돌(collistion) 해결 알고리즘\n",
    "\n",
    "##### 6.1. chaining 기법\n",
    "\n",
    "- open hashing 기법 중 하나: 해쉬 테이블 저장공간 외의 공간을 활용하는 기법\n",
    "- 충돌이 일어나면, 링크드 리스트를 이용해서, 데이터를 추가로 뒤에 연결시켜서 저장하는 기법"
   ]
  },
  {
   "cell_type": "code",
   "execution_count": 95,
   "id": "41b1df95",
   "metadata": {},
   "outputs": [],
   "source": [
    "class HashTable:\n",
    "    def __init__(self, size=10):\n",
    "        self.hash_table = list([None for i in range(size)])\n",
    "        self.size = size\n",
    "        \n",
    "    def get_key(self, data):\n",
    "        return hash(data)\n",
    "\n",
    "    def hash_function(self, key):\n",
    "        return key % self.size\n",
    "\n",
    "    def save_data(self, data, value):\n",
    "        index_key = self.get_key(data)\n",
    "        hash_address = self.hash_function(index_key)\n",
    "        \n",
    "        # if there exists data\n",
    "        if self.hash_table[hash_address] != None:\n",
    "            for index in range(len(self.hash_table[hash_address])):\n",
    "                if self.hash_table[hash_address][index][0] == index_key: # updating\n",
    "                    self.hash_table[hash_address][index][1] = value\n",
    "                    return\n",
    "            self.hash_table[hash_address].append([index_key, value])     # add data to list\n",
    "        else:\n",
    "            self.hash_table[hash_address] = [[index_key, value]]\n",
    "\n",
    "    def read_data(self, data):\n",
    "        index_key = self.get_key(data)\n",
    "        hash_address = self.hash_function(index_key)\n",
    "        \n",
    "        # if there exists data\n",
    "        if self.hash_table[hash_address] != None:\n",
    "            for index in range(len(self.hash_table[hash_address])):\n",
    "                if self.hash_table[hash_address][index][0] == index_key:\n",
    "                    return self.hash_table[hash_address][index][1]\n",
    "            return None\n",
    "        else:\n",
    "            return None\n",
    "    \n",
    "    def __repr__(self):\n",
    "        result = \"\"\n",
    "        for i in range(self.size):\n",
    "            result = result + str(self.hash_table[i]) + \"\\n\"\n",
    "        return result"
   ]
  },
  {
   "cell_type": "code",
   "execution_count": 102,
   "id": "2cc74cb0",
   "metadata": {},
   "outputs": [
    {
     "name": "stdout",
     "output_type": "stream",
     "text": [
      "[[-7471504007131556612, '01000000000'], [1579877468442977058, '01022222222']]\n",
      "[[1444006149281834255, '01011111111']]\n",
      "\n"
     ]
    }
   ],
   "source": [
    "DB = HashTable(2)\n",
    "DB.save_data(\"Mark\", \"01000000000\")\n",
    "DB.save_data(\"Joonho\", \"01011111111\")\n",
    "DB.save_data(\"Sujin\", \"01022222222\")\n",
    "print(DB)"
   ]
  },
  {
   "cell_type": "code",
   "execution_count": 103,
   "id": "ef02e6f4",
   "metadata": {},
   "outputs": [
    {
     "data": {
      "text/plain": [
       "'01022222222'"
      ]
     },
     "execution_count": 103,
     "metadata": {},
     "output_type": "execute_result"
    }
   ],
   "source": [
    "DB.read_data(\"Sujin\")"
   ]
  },
  {
   "cell_type": "code",
   "execution_count": 104,
   "id": "243248e3",
   "metadata": {},
   "outputs": [],
   "source": [
    "DB.save_data(\"Sujin\", \"CHECKED\")"
   ]
  },
  {
   "cell_type": "code",
   "execution_count": 105,
   "id": "d4bd761e",
   "metadata": {},
   "outputs": [
    {
     "name": "stdout",
     "output_type": "stream",
     "text": [
      "[[-7471504007131556612, '01000000000'], [1579877468442977058, 'CHECKED']]\n",
      "[[1444006149281834255, '01011111111']]\n",
      "\n"
     ]
    }
   ],
   "source": [
    "print(DB)"
   ]
  },
  {
   "cell_type": "markdown",
   "id": "0dd50267",
   "metadata": {},
   "source": [
    "##### 6.2. linear probing 기법\n",
    "\n",
    "- close hashing 기법 중 하나: 해쉬 테이블 저장공간 안에서 문제를 해결하는 기법\n",
    "- 충돌이 일어나면, hash address의 다음 address부터 맨 처음 나오는 빈공간에 저장하는 기법\n",
    "    - 저장공간 활용도를 높이기 위한 기법"
   ]
  },
  {
   "cell_type": "code",
   "execution_count": 115,
   "id": "60cafb63",
   "metadata": {},
   "outputs": [],
   "source": [
    "class HashTable:\n",
    "    def __init__(self, size=10):\n",
    "        self.hash_table = list([None for i in range(size)])\n",
    "        self.size = size\n",
    "        \n",
    "    def get_key(self, data):\n",
    "        return hash(data)\n",
    "\n",
    "    def hash_function(self, key):\n",
    "        return key % self.size\n",
    "\n",
    "    def save_data(self, data, value):\n",
    "        index_key = self.get_key(data)\n",
    "        hash_address = self.hash_function(index_key)\n",
    "        \n",
    "        # if there exists data\n",
    "        if self.hash_table[hash_address] != None:\n",
    "            for index in range(hash_address, self.size):\n",
    "                if self.hash_table[index] == None:                       # add data\n",
    "                    self.hash_table[index] = [index_key, value]\n",
    "                    return\n",
    "                elif self.hash_table[index][0] == index_key:             # updating\n",
    "                    self.hash_table[index][1] = value\n",
    "                    return\n",
    "        else:\n",
    "            self.hash_table[hash_address] = [index_key, value]           # add data\n",
    "\n",
    "    def read_data(self, data):\n",
    "        index_key = self.get_key(data)\n",
    "        hash_address = self.hash_function(index_key)\n",
    "        \n",
    "        # if there exists data\n",
    "        if self.hash_table[hash_address] != None:\n",
    "            for index in range(hash_address, len(self.hash_table)):\n",
    "                if self.hash_table[index] == None:\n",
    "                    return None\n",
    "                elif self.hash_table[index][0] == index_key:\n",
    "                    return self.hash_table[index][1]\n",
    "        else:\n",
    "            return None\n",
    "    \n",
    "    def __repr__(self):\n",
    "        result = \"\"\n",
    "        for i in range(self.size):\n",
    "            result = result + str(self.hash_table[i]) + \"\\n\"\n",
    "        return result"
   ]
  },
  {
   "cell_type": "code",
   "execution_count": 121,
   "id": "f0cd497b",
   "metadata": {},
   "outputs": [
    {
     "name": "stdout",
     "output_type": "stream",
     "text": [
      "6\n",
      "6\n",
      "4\n"
     ]
    }
   ],
   "source": [
    "print(hash('dk') % 8)\n",
    "print(hash('da') % 8)\n",
    "print(hash('dc') % 8)"
   ]
  },
  {
   "cell_type": "code",
   "execution_count": 117,
   "id": "c4f6344b",
   "metadata": {},
   "outputs": [
    {
     "name": "stdout",
     "output_type": "stream",
     "text": [
      "None\n",
      "None\n",
      "None\n",
      "None\n",
      "None\n",
      "None\n",
      "[-303478032461917690, '010']\n",
      "[-2110769656344426426, '000']\n",
      "\n"
     ]
    }
   ],
   "source": [
    "DB = HashTable(8)\n",
    "DB.save_data('da', '010')\n",
    "DB.save_data('dk', '000')\n",
    "print(DB)"
   ]
  },
  {
   "cell_type": "code",
   "execution_count": 118,
   "id": "840a3088",
   "metadata": {},
   "outputs": [
    {
     "data": {
      "text/plain": [
       "'000'"
      ]
     },
     "execution_count": 118,
     "metadata": {},
     "output_type": "execute_result"
    }
   ],
   "source": [
    "DB.read_data('dk')"
   ]
  },
  {
   "cell_type": "code",
   "execution_count": 119,
   "id": "00d05b65",
   "metadata": {},
   "outputs": [
    {
     "data": {
      "text/plain": [
       "'010'"
      ]
     },
     "execution_count": 119,
     "metadata": {},
     "output_type": "execute_result"
    }
   ],
   "source": [
    "DB.read_data('da')"
   ]
  },
  {
   "cell_type": "code",
   "execution_count": 120,
   "id": "086e1de1",
   "metadata": {},
   "outputs": [],
   "source": [
    "DB.read_data('dc')"
   ]
  },
  {
   "cell_type": "markdown",
   "id": "9e0fe471",
   "metadata": {},
   "source": [
    "##### 6.3. 빈번한 충돌을 방지하는 방법\n",
    "- 해쉬 함수 재정의 및 테이블 저장 공간을 확대\n",
    "\n",
    "##### 참고: 해쉬 함수...\n",
    "\n",
    "- 파이썬 hash()는 실행할 때마다, 값이 달라질 수 있음\n",
    "- 유명한 해쉬 함수 사용: SHA\n",
    "\n",
    "    - 어떠한 데이터도 유일한 고정된 크기의 고정값 리턴(블록체인에 사용됨)\n",
    "   "
   ]
  },
  {
   "cell_type": "code",
   "execution_count": 123,
   "id": "1e05cee1",
   "metadata": {},
   "outputs": [
    {
     "name": "stdout",
     "output_type": "stream",
     "text": [
      "a94a8fe5ccb19ba61c4c0873d391e987982fbbd3\n"
     ]
    }
   ],
   "source": [
    "# SHA-1\n",
    "import hashlib\n",
    "\n",
    "data = 'test'.encode() # b'test'\n",
    "hash_object = hashlib.sha1()\n",
    "hash_object.update(data)\n",
    "hex_dig = hash_object.hexdigest()\n",
    "print(hex_dig)"
   ]
  },
  {
   "cell_type": "code",
   "execution_count": 125,
   "id": "3b2cbef2",
   "metadata": {},
   "outputs": [
    {
     "name": "stdout",
     "output_type": "stream",
     "text": [
      "9f86d081884c7d659a2feaa0c55ad015a3bf4f1b2b0b822cd15d6c15b0f00a08\n"
     ]
    }
   ],
   "source": [
    "# SHA-256\n",
    "import hashlib\n",
    "\n",
    "data = 'test'.encode() # b'test'\n",
    "hash_object = hashlib.sha256()\n",
    "hash_object.update(data)\n",
    "hex_dig = hash_object.hexdigest()\n",
    "print(hex_dig)"
   ]
  },
  {
   "cell_type": "code",
   "execution_count": 126,
   "id": "3c51bc26",
   "metadata": {},
   "outputs": [
    {
     "data": {
      "text/plain": [
       "72155939486846849509759369733266486982821795810448245423168957390607644363272"
      ]
     },
     "execution_count": 126,
     "metadata": {},
     "output_type": "execute_result"
    }
   ],
   "source": [
    "int(hex_dig, 16)"
   ]
  },
  {
   "cell_type": "code",
   "execution_count": 127,
   "id": "ba766d13",
   "metadata": {},
   "outputs": [],
   "source": [
    "import hashlib\n",
    "class HashTable:\n",
    "    def __init__(self, size=10):\n",
    "        self.hash_table = list([None for i in range(size)])\n",
    "        self.size = size\n",
    "        \n",
    "    def get_key(self, data):\n",
    "        hash_object = hashlib.sha256()\n",
    "        hash_object.update(data.encode())\n",
    "        hex_dig = hash_object.hexdigest()\n",
    "        return int(hex_dig, 16)\n",
    "\n",
    "    def hash_function(self, key):\n",
    "        return key % self.size\n",
    "\n",
    "    def save_data(self, data, value):\n",
    "        index_key = self.get_key(data)\n",
    "        hash_address = self.hash_function(index_key)\n",
    "        \n",
    "        # if there exists data\n",
    "        if self.hash_table[hash_address] != None:\n",
    "            for index in range(hash_address, self.size):\n",
    "                if self.hash_table[index] == None:                       # add data\n",
    "                    self.hash_table[index] = [index_key, value]\n",
    "                    return\n",
    "                elif self.hash_table[index][0] == index_key:             # updating\n",
    "                    self.hash_table[index][1] = value\n",
    "                    return\n",
    "        else:\n",
    "            self.hash_table[hash_address] = [index_key, value]           # add data\n",
    "\n",
    "    def read_data(self, data):\n",
    "        index_key = self.get_key(data)\n",
    "        hash_address = self.hash_function(index_key)\n",
    "        \n",
    "        # if there exists data\n",
    "        if self.hash_table[hash_address] != None:\n",
    "            for index in range(hash_address, len(self.hash_table)):\n",
    "                if self.hash_table[index] == None:\n",
    "                    return None\n",
    "                elif self.hash_table[index][0] == index_key:\n",
    "                    return self.hash_table[index][1]\n",
    "        else:\n",
    "            return None\n",
    "    \n",
    "    def __repr__(self):\n",
    "        result = \"\"\n",
    "        for i in range(self.size):\n",
    "            result = result + str(self.hash_table[i]) + \"\\n\"\n",
    "        return result"
   ]
  },
  {
   "cell_type": "markdown",
   "id": "9db70f1c",
   "metadata": {},
   "source": [
    "### 7. 시간 복잡도\n",
    "\n",
    "- 일반적인 경우(Collision이 없는 경우: O(1))\n",
    "- 최악의 경우(Collision이 모두 발생하는 경우: O(n))\n",
    "\n",
    "> 해쉬 테이블의 경우, 일반적인 경우를 기대하고 만들기 때문에, 시간 복잡도는 O(1)으로 말할 수 있음\n",
    "\n",
    "##### 검색에서 해쉬 테이블의 사용 예\n",
    "\n",
    "- 16개의 배열에 데이터를 저장하고, 검색할 때: O(n)\n",
    "- 16개의 데이터 저장 공간을 가진 위의 해쉬 테이블에 데이터를 저장하고, 검색할 때: O(1)"
   ]
  },
  {
   "cell_type": "code",
   "execution_count": null,
   "id": "72eb86f8",
   "metadata": {},
   "outputs": [],
   "source": []
  }
 ],
 "metadata": {
  "kernelspec": {
   "display_name": "Python 3",
   "language": "python",
   "name": "python3"
  },
  "language_info": {
   "codemirror_mode": {
    "name": "ipython",
    "version": 3
   },
   "file_extension": ".py",
   "mimetype": "text/x-python",
   "name": "python",
   "nbconvert_exporter": "python",
   "pygments_lexer": "ipython3",
   "version": "3.9.0"
  }
 },
 "nbformat": 4,
 "nbformat_minor": 5
}
