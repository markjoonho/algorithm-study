{
 "cells": [
  {
   "cell_type": "markdown",
   "id": "07910da8",
   "metadata": {},
   "source": [
    "### 1. Tree 구조\n",
    "\n",
    "- 트리: Node와 Branch를 이용해서, 사이클을 이루지 않도록 구성한 데이터 구조\n",
    "- 실제로 어디에 많이 사용하는가?\n",
    "    - Binary Tree의 구조로, 탐색(검색) 알고리즘 구현을 위해 많이 사용됨\n",
    "    \n",
    "### 2. 알아둘 용어\n",
    "\n",
    "- Node: 데이터를 저장하는 기본 요소(데이터와 다른 연결된 node에 대한 Branch 정보 필요)\n",
    "- Root Node: 맨 위에 있는 Node\n",
    "- Level: Root node(맨 위)의 Level은 0으로, 하위 Branch로 연결된 Node의 길이르 나타냄\n",
    "- Parent, Child Node: 해당 노드의 상위 혹은 하위 노드\n",
    "- Leaf Node: Child Node가 없는 Node\n",
    "- Sibling: Nodes with Same parent node\n",
    "- Depth: Node의 최대 Levle\n",
    "\n",
    "### 3. 이진 트리와 이진 탐색 트리(BST)\n",
    "\n",
    "- 이진 트리: 노드의 최대 branch가 최대 2인 트리\n",
    "- 이진 탐색 트리: 다음 조건이 추가된 이진 트리\n",
    "    - 왼쪽 노드는 해당 노드보다 작은 값, 오른쪽 노드는 해당 노드보다 큰 값을 가지고 있음!\n",
    "    \n",
    "### 4. 자료 구조 이진 탐색 트리의 장점과 주요 용도\n",
    "\n",
    "- 주요 용도: 데이터 검색(탐색)\n",
    "- 장점: 탐색 속도를 개선할 수 있음\n",
    "\n",
    "### 5. 링크드 리스트로 이진 탐색 트리 구현하기\n",
    "##### 5.1. 노드 클래스 만들기"
   ]
  },
  {
   "cell_type": "code",
   "execution_count": 4,
   "id": "622b3232",
   "metadata": {},
   "outputs": [],
   "source": [
    "class Node:\n",
    "    def __init__(self, value):\n",
    "        self.value = value\n",
    "        self.left = None\n",
    "        self.right = None"
   ]
  },
  {
   "cell_type": "markdown",
   "id": "9a499733",
   "metadata": {},
   "source": [
    "##### 5.2. 데이터 넣기"
   ]
  },
  {
   "cell_type": "code",
   "execution_count": 5,
   "id": "689b3633",
   "metadata": {},
   "outputs": [],
   "source": [
    "class NodeMgmt:\n",
    "    def __init__(self, head):\n",
    "        self.head = head\n",
    "        \n",
    "    def insert(self, value):\n",
    "        self.current_node = self.head\n",
    "        while True:\n",
    "            if value < self.current_node.value:\n",
    "                if self.current_node.left == None:\n",
    "                    self.current_node.left = Node(value)\n",
    "                    break\n",
    "                else:\n",
    "                    self.current_node = self.current_node.left\n",
    "            else:\n",
    "                if self.current_node.right == None:\n",
    "                    self.current_node.right = Node(value)\n",
    "                    break\n",
    "                else:\n",
    "                    self.current_node = self.current_node.right                    "
   ]
  },
  {
   "cell_type": "code",
   "execution_count": 6,
   "id": "c180ea67",
   "metadata": {},
   "outputs": [],
   "source": [
    "head = Node(1)\n",
    "bst = NodeMgmt(head)\n",
    "bst.insert(2)"
   ]
  },
  {
   "cell_type": "markdown",
   "id": "cbe6b8d9",
   "metadata": {},
   "source": [
    "##### 5.3 이진 탐색 트리 탐색"
   ]
  },
  {
   "cell_type": "code",
   "execution_count": 7,
   "id": "c65da8b9",
   "metadata": {},
   "outputs": [],
   "source": [
    "class NodeMgmt:\n",
    "    def __init__(self, head):\n",
    "        self.head = head\n",
    "        \n",
    "    def insert(self, value):\n",
    "        self.current_node = self.head\n",
    "        while True:\n",
    "            if value < self.current_node.value:\n",
    "                if self.current_node.left == None:\n",
    "                    self.current_node.left = Node(value)\n",
    "                    break\n",
    "                else:\n",
    "                    self.current_node = self.current_node.left\n",
    "            else:\n",
    "                if self.current_node.right == None:\n",
    "                    self.current_node.right = Node(value)\n",
    "                    break\n",
    "                else:\n",
    "                    self.current_node = self.current_node.right\n",
    "                    \n",
    "    def search(self, value):\n",
    "        self.current_node = self.head\n",
    "        while self.current_node:\n",
    "            if self.current_node.value == value:\n",
    "                return True\n",
    "            elif self.current_node.value > value:\n",
    "                self.current_node = self.current_node.left\n",
    "            else:\n",
    "                self.current_node = self.current_node.right\n",
    "        return False"
   ]
  },
  {
   "cell_type": "code",
   "execution_count": 9,
   "id": "6a986143",
   "metadata": {},
   "outputs": [],
   "source": [
    "head = Node(1)\n",
    "bst = NodeMgmt(head)\n",
    "bst.insert(2)\n",
    "bst.insert(10)\n",
    "bst.insert(-10)"
   ]
  },
  {
   "cell_type": "code",
   "execution_count": 15,
   "id": "b74d83b4",
   "metadata": {},
   "outputs": [
    {
     "data": {
      "text/plain": [
       "(True, True, True, True)"
      ]
     },
     "execution_count": 15,
     "metadata": {},
     "output_type": "execute_result"
    }
   ],
   "source": [
    "bst.search(10), bst.search(2), bst.search(-10), bst.search(1)"
   ]
  },
  {
   "cell_type": "code",
   "execution_count": 16,
   "id": "a9f46079",
   "metadata": {},
   "outputs": [
    {
     "data": {
      "text/plain": [
       "(False, False, False)"
      ]
     },
     "execution_count": 16,
     "metadata": {},
     "output_type": "execute_result"
    }
   ],
   "source": [
    "bst.search(-100), bst.search(3), bst.search(4)"
   ]
  },
  {
   "cell_type": "markdown",
   "id": "08570921",
   "metadata": {},
   "source": [
    "##### 5.4. 이진 탐색 트리 삭제\n",
    "\n",
    "- 5.4.1. delete leaf node\n",
    "- 5.4.2. delete node with one child node\n",
    "- 5.4.3. delete node with two child nodes\n",
    "    - **삭제할 노드의 오른쪽 자식 중, 가장 작은 값을 삭제할 노드의 parent node가 가리키도록 한다.**\n",
    "    - 삭제할 노드의 왼쪽 자식 중, 가장 큰 값 값을 삭제할 노드의 parent node가 가리키도록 한다."
   ]
  },
  {
   "cell_type": "code",
   "execution_count": null,
   "id": "cb63f705",
   "metadata": {},
   "outputs": [],
   "source": [
    "# code later"
   ]
  }
 ],
 "metadata": {
  "kernelspec": {
   "display_name": "Python 3",
   "language": "python",
   "name": "python3"
  },
  "language_info": {
   "codemirror_mode": {
    "name": "ipython",
    "version": 3
   },
   "file_extension": ".py",
   "mimetype": "text/x-python",
   "name": "python",
   "nbconvert_exporter": "python",
   "pygments_lexer": "ipython3",
   "version": "3.9.0"
  }
 },
 "nbformat": 4,
 "nbformat_minor": 5
}
