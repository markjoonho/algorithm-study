{
 "cells": [
  {
   "cell_type": "markdown",
   "id": "07910da8",
   "metadata": {},
   "source": [
    "### 1. Tree 구조\n",
    "\n",
    "- 트리: Node와 Branch를 이용해서, 사이클을 이루지 않도록 구성한 데이터 구조\n",
    "- 실제로 어디에 많이 사용하는가?\n",
    "    - Binary Tree의 구조로, 탐색(검색) 알고리즘 구현을 위해 많이 사용됨\n",
    "    \n",
    "### 2. 알아둘 용어\n",
    "\n",
    "- Node: 데이터를 저장하는 기본 요소(데이터와 다른 연결된 node에 대한 Branch 정보 필요)\n",
    "- Root Node: 맨 위에 있는 Node\n",
    "- Level: Root node(맨 위)의 Level은 0으로, 하위 Branch로 연결된 Node의 길이르 나타냄\n",
    "- Parent, Child Node: 해당 노드의 상위 혹은 하위 노드\n",
    "- Leaf Node: Child Node가 없는 Node\n",
    "- Sibling: Nodes with Same parent node\n",
    "- Depth: Node의 최대 Levle\n",
    "\n",
    "### 3. 이진 트리와 이진 탐색 트리(BST)\n",
    "\n",
    "- 이진 트리: 노드의 최대 branch가 최대 2인 트리\n",
    "- 이진 탐색 트리: 다음 조건이 추가된 이진 트리\n",
    "    - 왼쪽 노드는 해당 노드보다 작은 값, 오른쪽 노드는 해당 노드보다 큰 값을 가지고 있음!\n",
    "    \n",
    "### 4. 자료 구조 이진 탐색 트리의 장점과 주요 용도\n",
    "\n",
    "- 주요 용도: 데이터 검색(탐색)\n",
    "- 장점: 탐색 속도를 개선할 수 있음\n",
    "\n",
    "### 5. 링크드 리스트로 이진 탐색 트리 구현하기\n",
    "##### 5.1. 노드 클래스 만들기"
   ]
  },
  {
   "cell_type": "code",
   "execution_count": 35,
   "id": "622b3232",
   "metadata": {},
   "outputs": [],
   "source": [
    "class Node:\n",
    "    def __init__(self, value):\n",
    "        self.value = value\n",
    "        self.left = None\n",
    "        self.right = None"
   ]
  },
  {
   "cell_type": "markdown",
   "id": "9a499733",
   "metadata": {},
   "source": [
    "##### 5.2. 데이터 넣기"
   ]
  },
  {
   "cell_type": "code",
   "execution_count": 36,
   "id": "689b3633",
   "metadata": {},
   "outputs": [],
   "source": [
    "class NodeMgmt:\n",
    "    def __init__(self, head):\n",
    "        self.head = head\n",
    "        \n",
    "    def insert(self, value):\n",
    "        self.current_node = self.head\n",
    "        while True:\n",
    "            if value < self.current_node.value:\n",
    "                if self.current_node.left == None:\n",
    "                    self.current_node.left = Node(value)\n",
    "                    break\n",
    "                else:\n",
    "                    self.current_node = self.current_node.left\n",
    "            else:\n",
    "                if self.current_node.right == None:\n",
    "                    self.current_node.right = Node(value)\n",
    "                    break\n",
    "                else:\n",
    "                    self.current_node = self.current_node.right                    "
   ]
  },
  {
   "cell_type": "code",
   "execution_count": 37,
   "id": "c180ea67",
   "metadata": {},
   "outputs": [],
   "source": [
    "head = Node(1)\n",
    "bst = NodeMgmt(head)\n",
    "bst.insert(2)"
   ]
  },
  {
   "cell_type": "markdown",
   "id": "cbe6b8d9",
   "metadata": {},
   "source": [
    "##### 5.3 이진 탐색 트리 탐색"
   ]
  },
  {
   "cell_type": "code",
   "execution_count": 38,
   "id": "c65da8b9",
   "metadata": {},
   "outputs": [],
   "source": [
    "class NodeMgmt:\n",
    "    def __init__(self, head):\n",
    "        self.head = head\n",
    "        \n",
    "    def insert(self, value):\n",
    "        self.current_node = self.head\n",
    "        while True:\n",
    "            if value < self.current_node.value:\n",
    "                if self.current_node.left == None:\n",
    "                    self.current_node.left = Node(value)\n",
    "                    break\n",
    "                else:\n",
    "                    self.current_node = self.current_node.left\n",
    "            else:\n",
    "                if self.current_node.right == None:\n",
    "                    self.current_node.right = Node(value)\n",
    "                    break\n",
    "                else:\n",
    "                    self.current_node = self.current_node.right\n",
    "                    \n",
    "    def search(self, value):\n",
    "        self.current_node = self.head\n",
    "        while self.current_node:\n",
    "            if self.current_node.value == value:\n",
    "                return True\n",
    "            elif self.current_node.value > value:\n",
    "                self.current_node = self.current_node.left\n",
    "            else:\n",
    "                self.current_node = self.current_node.right\n",
    "        return False"
   ]
  },
  {
   "cell_type": "code",
   "execution_count": 39,
   "id": "6a986143",
   "metadata": {},
   "outputs": [],
   "source": [
    "head = Node(1)\n",
    "bst = NodeMgmt(head)\n",
    "bst.insert(2)\n",
    "bst.insert(10)\n",
    "bst.insert(-10)"
   ]
  },
  {
   "cell_type": "code",
   "execution_count": 40,
   "id": "b74d83b4",
   "metadata": {},
   "outputs": [
    {
     "data": {
      "text/plain": [
       "(True, True, True, True)"
      ]
     },
     "execution_count": 40,
     "metadata": {},
     "output_type": "execute_result"
    }
   ],
   "source": [
    "bst.search(10), bst.search(2), bst.search(-10), bst.search(1)"
   ]
  },
  {
   "cell_type": "code",
   "execution_count": 41,
   "id": "a9f46079",
   "metadata": {},
   "outputs": [
    {
     "data": {
      "text/plain": [
       "(False, False, False)"
      ]
     },
     "execution_count": 41,
     "metadata": {},
     "output_type": "execute_result"
    }
   ],
   "source": [
    "bst.search(-100), bst.search(3), bst.search(4)"
   ]
  },
  {
   "cell_type": "markdown",
   "id": "08570921",
   "metadata": {},
   "source": [
    "##### 5.4. 이진 탐색 트리 삭제\n",
    "\n",
    "- 5.4.1. delete leaf node\n",
    "- 5.4.2. delete node with one child node\n",
    "- 5.4.3. delete node with two child nodes\n",
    "    - **삭제할 노드의 오른쪽 자식 중, 가장 작은 값을 삭제할 노드의 parent node가 가리키도록 한다.**\n",
    "    - 삭제할 노드의 왼쪽 자식 중, 가장 큰 값 값을 삭제할 노드의 parent node가 가리키도록 한다."
   ]
  },
  {
   "cell_type": "code",
   "execution_count": 42,
   "id": "cb63f705",
   "metadata": {},
   "outputs": [],
   "source": [
    "class NodeMgmt:\n",
    "    def __init__(self, head):\n",
    "        self.head = head\n",
    "        \n",
    "    def insert(self, value):\n",
    "        self.current_node = self.head\n",
    "        while True:\n",
    "            if value < self.current_node.value:\n",
    "                if self.current_node.left == None:\n",
    "                    self.current_node.left = Node(value)\n",
    "                    break\n",
    "                else:\n",
    "                    self.current_node = self.current_node.left\n",
    "            else:\n",
    "                if self.current_node.right == None:\n",
    "                    self.current_node.right = Node(value)\n",
    "                    break\n",
    "                else:\n",
    "                    self.current_node = self.current_node.right\n",
    "                    \n",
    "    def search(self, value):\n",
    "        self.current_node = self.head\n",
    "        while self.current_node:\n",
    "            if self.current_node.value == value:\n",
    "                return True\n",
    "            elif self.current_node.value > value:\n",
    "                self.current_node = self.current_node.left\n",
    "            else:\n",
    "                self.current_node = self.current_node.right\n",
    "        return False\n",
    "\n",
    "    def delete(self, value):\n",
    "        # search deleting node\n",
    "        searched = False\n",
    "        self.current_node = self.head\n",
    "        self.parent = self.head\n",
    "        while self.current_node:\n",
    "            if self.current_node.value == value:\n",
    "                searched = True\n",
    "                break\n",
    "            elif self.current_node.value > value:\n",
    "                self.parent = self.current_node\n",
    "                self.current_node = self.current_node.left\n",
    "            else:\n",
    "                self.parent = self.current_node\n",
    "                self.current_node = self.current_node.right\n",
    "\n",
    "        if searched == False:\n",
    "            return False\n",
    "\n",
    "        # Start deleting\n",
    "        ## 5.4.1. current node: leaf node\n",
    "        if self.current_node.left == None and self.current_node.right == None:\n",
    "            if value < self.current_node.value:\n",
    "                self.parent.left = None\n",
    "            else: \n",
    "                self.parent.right = None\n",
    "            del self.current_node\n",
    "\n",
    "        ## 5.4.2 current node: one child node at left\n",
    "        elif self.current_node.left != None and self.current_node.right == None:\n",
    "            if value < self.parent.value: # left \n",
    "                self.parent.left = self.current_node.left\n",
    "            else:\n",
    "                self.parent.right = self.current_node.left\n",
    "\n",
    "        ## 5.4.2 current node: one child node at right\n",
    "        elif self.current_node.left == None and self.current_node.right != None:\n",
    "            if value < self.parent.value:\n",
    "                self.parent.left = self.current_node.right\n",
    "            else:\n",
    "                self.parent.right = self.current_node.right\n",
    "\n",
    "        ## 5.4.3 current node: two child node \n",
    "        elif self.current_node.left != None and self.current_node.right != None:\n",
    "\n",
    "            # current node is on the left side from parent node\n",
    "            if value < self.parent.value:\n",
    "                self.change_node = self.current_node.right\n",
    "                self.change_node_parent = self.current_node.right\n",
    "                while self.change_node.left != None: # get the smallest value\n",
    "                    self.change_node_parent = self.change_node\n",
    "                    self.change_node = self.change_node.left\n",
    "\n",
    "                if self.change_node.right != None:\n",
    "                    self.change_node_parent.left = self.change_node.right\n",
    "                else:\n",
    "                    self.change_node_parent.left = None\n",
    "\n",
    "                self.parent.left = self.change_node\n",
    "                self.change_node.right = self.current_node.right\n",
    "                self.change_node.left = self.change_node.left\n",
    "\n",
    "            # current node is on the right side from parent node\n",
    "            else:\n",
    "                self.change_node = self.current_node.right\n",
    "                self.change_node_parent = self.current_node.right\n",
    "                while self.change_node.left != None: # get the smallest value\n",
    "                    self.change_node_parent = self.change_node\n",
    "                    self.change_node = self.change_node.left\n",
    "\n",
    "                if self.change_node.right != None:\n",
    "                    self.change_node_parent.left = self.change_node.right\n",
    "                else:\n",
    "                    self.change_node_parent.left = None\n",
    "\n",
    "                self.parent.right = self.change_node\n",
    "                self.change_node.left = self.current_node.left\n",
    "                self.change_node.right = self.current_node.right"
   ]
  },
  {
   "cell_type": "code",
   "execution_count": 43,
   "id": "85df10cd",
   "metadata": {},
   "outputs": [],
   "source": [
    "# Testing\n",
    "import random\n",
    "\n",
    "# select 100 random int from 0 to 999\n",
    "bst_nums = set()\n",
    "while len(bst_nums) != 100:\n",
    "    bst_nums.add(random.randint(0, 999))\n",
    "\n",
    "root = Node(500)\n",
    "tree = NodeMgmt(root)\n",
    "\n",
    "for num in bst_nums:\n",
    "    tree.insert(num)\n",
    "\n",
    "# check\n",
    "for num in bst_nums:\n",
    "    if tree.search(num) == False:\n",
    "        print(\"Failed\")"
   ]
  },
  {
   "cell_type": "code",
   "execution_count": 44,
   "id": "73736e9c",
   "metadata": {},
   "outputs": [
    {
     "name": "stdout",
     "output_type": "stream",
     "text": [
      "{512, 513, 519, 29, 542, 35, 42, 556, 51, 574, 578, 78, 602, 109, 111, 115, 629, 635, 128, 640, 643, 649, 143, 657, 153, 666, 679, 702, 192, 706, 709, 214, 218, 734, 740, 232, 234, 749, 767, 779, 785, 277, 790, 793, 794, 795, 797, 290, 291, 810, 299, 814, 303, 310, 311, 318, 833, 837, 325, 326, 840, 331, 340, 852, 855, 859, 860, 351, 864, 355, 869, 874, 364, 876, 883, 884, 373, 894, 901, 395, 416, 420, 934, 423, 432, 440, 953, 446, 967, 456, 968, 457, 471, 987, 476, 989, 992, 483, 485, 505} 100\n"
     ]
    }
   ],
   "source": [
    "print(bst_nums, len(bst_nums))"
   ]
  },
  {
   "cell_type": "code",
   "execution_count": 45,
   "id": "7567c834",
   "metadata": {},
   "outputs": [],
   "source": [
    "delete_nums = set()\n",
    "bst_nums = list(bst_nums)\n",
    "while len(delete_nums) != 10:\n",
    "    delete_nums.add(bst_nums[random.randint(0,99)])"
   ]
  },
  {
   "cell_type": "code",
   "execution_count": 46,
   "id": "2dc0cb8f",
   "metadata": {},
   "outputs": [
    {
     "name": "stdout",
     "output_type": "stream",
     "text": [
      "{128, 355, 968, 299, 364, 395, 855, 602, 476, 351} 10\n"
     ]
    }
   ],
   "source": [
    "print(delete_nums, len(delete_nums))"
   ]
  },
  {
   "cell_type": "code",
   "execution_count": 49,
   "id": "a3797b7b",
   "metadata": {},
   "outputs": [
    {
     "name": "stdout",
     "output_type": "stream",
     "text": [
      "False\n",
      "False\n",
      "False\n",
      "False\n",
      "False\n",
      "False\n",
      "False\n",
      "False\n",
      "False\n",
      "False\n"
     ]
    }
   ],
   "source": [
    "for num in delete_nums:\n",
    "    tree.delete(num)\n",
    "\n",
    "for num in delete_nums:\n",
    "    print(tree.search(num))"
   ]
  },
  {
   "cell_type": "markdown",
   "id": "c0459c6b",
   "metadata": {},
   "source": [
    "### 6. 이진 탐색 트리의 시간 복잡도와 단점\n",
    "\n",
    "##### 6.1. 시간 복잡도 (탐색시)\n",
    "\n",
    "- depth를 h로 표기한다면 O(h)\n",
    "- n개의 노드를 가진다면, h = $log_2(n)$ 에 가까우므로, O(logn)"
   ]
  },
  {
   "cell_type": "markdown",
   "id": "5769a0c0",
   "metadata": {},
   "source": [
    "##### 6.2. 단점\n",
    "\n",
    "- 평균 시간 복잡도는 O(logn) 이지만 최악의 경우 링크드 리스트와 동일한 성능을 보여, O(n)\n"
   ]
  }
 ],
 "metadata": {
  "kernelspec": {
   "display_name": "Python 3",
   "language": "python",
   "name": "python3"
  },
  "language_info": {
   "codemirror_mode": {
    "name": "ipython",
    "version": 3
   },
   "file_extension": ".py",
   "mimetype": "text/x-python",
   "name": "python",
   "nbconvert_exporter": "python",
   "pygments_lexer": "ipython3",
   "version": "3.9.0"
  }
 },
 "nbformat": 4,
 "nbformat_minor": 5
}
